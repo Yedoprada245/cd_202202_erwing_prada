{
  "nbformat": 4,
  "nbformat_minor": 0,
  "metadata": {
    "colab": {
      "name": "Color_rgb.ipynb",
      "provenance": [],
      "authorship_tag": "ABX9TyNDhxXBkpS8lzh0mgTQaudn",
      "include_colab_link": true
    },
    "kernelspec": {
      "name": "python3",
      "display_name": "Python 3"
    },
    "language_info": {
      "name": "python"
    }
  },
  "cells": [
    {
      "cell_type": "markdown",
      "metadata": {
        "id": "view-in-github",
        "colab_type": "text"
      },
      "source": [
        "<a href=\"https://colab.research.google.com/github/Yedoprada245/cd_202202_erwing_prada/blob/main/Color_rgb.ipynb\" target=\"_parent\"><img src=\"https://colab.research.google.com/assets/colab-badge.svg\" alt=\"Open In Colab\"/></a>"
      ]
    },
    {
      "cell_type": "code",
      "execution_count": 5,
      "metadata": {
        "id": "8kftymiHcBMs"
      },
      "outputs": [],
      "source": [
        "import colorsys\n",
        "\n"
      ]
    },
    {
      "cell_type": "code",
      "source": [
        "def generar_gama(ri,gi,bi,rf,gf,bf,cantidad):\n",
        "  hsvi=colorsys.rgb_to_hsv(ri/255,gi/255,bi/255)\n",
        "  hsvf=colorsys.rgb_to_hsv(rf/255,gf/255,bf/255)\n",
        "  \n",
        "  pasoh=(hsvf[0]-hsvi[0]/(cantidad-1))\n",
        "  pasos=(hsvf[1]-hsvi[1]/(cantidad-1))\n",
        "  pasov=(hsvf[2]-hsvi[2]/(cantidad-1))\n",
        "\n",
        "  listaRGB = []\n",
        "  listaRGB.append([ri,gi,bi])\n",
        "  for i in range(cantidad-1):\n",
        "    h=hsvi[0]+pasoh*(i+1)\n",
        "    s=hsvi[0]+pasos*(i+1)\n",
        "    v=hsvi[0]+pasov*(i+1)\n",
        "\n",
        "    rgb=colorsys.hsv_to_rgb(h,s,v)\n",
        "    listaRGB.append([round(rgb[0]*255,0),round(rgb[1]*255,0),round(rgb[2]*255,0)])\n",
        "\n",
        "  return listaRGB"
      ],
      "metadata": {
        "id": "k0RaJZavcFgQ"
      },
      "execution_count": 6,
      "outputs": []
    },
    {
      "cell_type": "code",
      "source": [
        "gama=generar_gama(255,0,0,0,255,255,8)\n",
        "gama"
      ],
      "metadata": {
        "colab": {
          "base_uri": "https://localhost:8080/"
        },
        "id": "oVTP1gfpcdaQ",
        "outputId": "c61cb0ea-c79a-4dc3-dae1-38ad443a6016"
      },
      "execution_count": 10,
      "outputs": [
        {
          "output_type": "execute_result",
          "data": {
            "text/plain": [
              "[[255, 0, 0],\n",
              " [31.0, 219.0, 219.0],\n",
              " [437.0, -312.0, -312.0],\n",
              " [-1030.0, 656.0, 656.0],\n",
              " [874.0, -2123.0, -2123.0],\n",
              " [-3591.0, 1093.0, 1093.0],\n",
              " [1311.0, -5433.0, -5433.0],\n",
              " [-7650.0, 1530.0, 1530.0]]"
            ]
          },
          "metadata": {},
          "execution_count": 10
        }
      ]
    }
  ]
}